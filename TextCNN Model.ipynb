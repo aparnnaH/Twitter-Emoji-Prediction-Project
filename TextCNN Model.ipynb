{
 "cells": [
  {
   "cell_type": "markdown",
   "id": "9b0ea935-cd0f-4020-abc8-34b15aebb390",
   "metadata": {},
   "source": [
    "# TextCNN Model"
   ]
  },
  {
   "cell_type": "code",
   "execution_count": 3,
   "id": "b1338965-08ff-452c-b8b5-c1ba5219a635",
   "metadata": {},
   "outputs": [],
   "source": [
    "# pip install torchtext"
   ]
  },
  {
   "cell_type": "code",
   "execution_count": 4,
   "id": "e3565fd3-b188-458c-9437-7442ccb0c303",
   "metadata": {},
   "outputs": [],
   "source": [
    "import torch\n",
    "import torch.nn as nn\n",
    "import torch.nn.functional as F\n",
    "from torch.utils.data import Dataset, DataLoader\n",
    "from torchtext.data.utils import get_tokenizer\n",
    "import pandas as pd\n",
    "import matplotlib.pyplot as plt\n",
    "from sklearn.metrics import classification_report\n",
    "from sklearn.model_selection import train_test_split\n",
    "import re\n",
    "from wordcloud import WordCloud"
   ]
  },
  {
   "cell_type": "code",
   "execution_count": 5,
   "id": "f10b1633-5dc3-495a-aecb-76609dfbc037",
   "metadata": {},
   "outputs": [],
   "source": [
    "# Load the training dataset containing text and corresponding emoji labels\n",
    "train = pd.read_csv(\"train.csv\")\n",
    "\n",
    "# Load the mapping file that maps numeric labels to actual emoticons\n",
    "mapping = pd.read_csv('Mapping.csv')\n",
    "\n",
    "# Create a dictionary to map numeric labels to their corresponding emoticons\n",
    "# 'number' column contains label IDs, 'emoticons' column contains emoji strings\n",
    "emoji_map = dict(zip(mapping[\"number\"], mapping[\"emoticons\"]))"
   ]
  },
  {
   "cell_type": "markdown",
   "id": "31f4973a-205d-4180-8078-1338c6ee8335",
   "metadata": {},
   "source": [
    "## Preparing Text Data for Modeling"
   ]
  },
  {
   "cell_type": "code",
   "execution_count": 8,
   "id": "8452ba4a-4890-4b2e-bf10-87b11dca784b",
   "metadata": {},
   "outputs": [],
   "source": [
    "# Clean Text Function\n",
    "def clean_text(text):\n",
    "    # Remove URLs\n",
    "    text = re.sub(r\"http\\S+\", \"\", text)\n",
    "    # Remove @mentions\n",
    "    text = re.sub(r\"@\\w+\", \"\", text)\n",
    "    # Remove special characters except basic punctuation\n",
    "    text = re.sub(r\"[^\\w\\s.,!?]\", \"\", text)\n",
    "    # Normalize spaces and convert to lowercase\n",
    "    text = re.sub(r\"\\s+\", \" \", text).strip().lower()\n",
    "    return text\n",
    "\n",
    "# Apply text cleaning to all entries in the TEXT column\n",
    "train[\"TEXT\"] = train[\"TEXT\"].astype(str).apply(clean_text)\n",
    "\n",
    "# Tokenize and encode\n",
    "# Initialize a basic english tokenizer\n",
    "tokenizer = get_tokenizer(\"basic_english\")\n",
    "\n",
    "# Tokenize each cleaned tweet\n",
    "train[\"tokens\"] = train[\"TEXT\"].apply(tokenizer)\n",
    "\n",
    "# Build vocabulary from all unique tokens\n",
    "vocab = set(token for tokens in train.tokens for token in tokens)\n",
    "\n",
    "# Assign an index to each token\n",
    "vocab_dict = {word: idx + 2 for idx, word in enumerate(vocab)}\n",
    "vocab_dict[\"<pad>\"] = 0  # padding token\n",
    "vocab_dict[\"<unk>\"] = 1  # unknown token\n",
    "\n",
    "# Function to encode tokens into indices using vocab_dict\n",
    "def encode(tokens):\n",
    "    return [vocab_dict.get(t, 1) for t in tokens]\n",
    "\n",
    "# Apply encoding to each list of tokens\n",
    "train[\"encoded\"] = train[\"tokens\"].apply(encode)\n",
    "\n",
    "MAX_LEN = 50\n",
    "def pad(seq):\n",
    "    return seq[:MAX_LEN] + [0] * (MAX_LEN - len(seq))\n",
    "    \n",
    "train[\"padded\"] = train[\"encoded\"].apply(pad)"
   ]
  },
  {
   "cell_type": "markdown",
   "id": "ac6b52b7-7b5c-4c62-b0ca-6582aaf5623f",
   "metadata": {},
   "source": [
    "## Building Dataset and DataLoader Objects"
   ]
  },
  {
   "cell_type": "code",
   "execution_count": 12,
   "id": "7203e703-5e92-432e-a941-74b878777dac",
   "metadata": {},
   "outputs": [],
   "source": [
    "# custom dataset class for tweets\n",
    "class TweetDataset(Dataset):\n",
    "    def __init__(self, texts, labels):\n",
    "        # Convert input sequences and labels to torch tensors\n",
    "        self.texts = torch.tensor(texts, dtype=torch.long)\n",
    "        self.labels = torch.tensor(labels, dtype=torch.long)\n",
    "\n",
    "    def __len__(self):\n",
    "        # total number of samples\n",
    "        return len(self.labels)\n",
    "\n",
    "    def __getitem__(self, idx):\n",
    "        # single sample by index\n",
    "        return self.texts[idx], self.labels[idx]\n",
    "\n",
    "# Split data into training and validation sets (80% train, 20% val)\n",
    "X_train, X_val, y_train, y_val = train_test_split(\n",
    "    train.padded.tolist(),\n",
    "    train.Label.tolist(),\n",
    "    test_size=0.2\n",
    ")\n",
    "\n",
    "# dataset instances for training and validation\n",
    "train_ds = TweetDataset(X_train, y_train)\n",
    "val_ds = TweetDataset(X_val, y_val)\n",
    "\n",
    "# dataLoader objects\n",
    "train_loader = DataLoader(train_ds, batch_size=64, shuffle=True)\n",
    "val_loader = DataLoader(val_ds, batch_size=64)"
   ]
  },
  {
   "cell_type": "markdown",
   "id": "9f0de35f-632e-45ee-94ff-9332be77abf8",
   "metadata": {},
   "source": [
    "## Defining and Training the TextCNN Model"
   ]
  },
  {
   "cell_type": "code",
   "execution_count": 14,
   "id": "d27e0a56-cc8b-4dc9-b515-19824287b43c",
   "metadata": {},
   "outputs": [],
   "source": [
    "class TextCNN(nn.Module):\n",
    "    def __init__(self, vocab_size, embed_dim, num_classes, kernel_sizes=[3, 4, 5], num_filters=100, dropout=0.5):\n",
    "        super().__init__()\n",
    "        # Embedding layer maps word indices to dense vectors\n",
    "        self.embedding = nn.Embedding(vocab_size, embed_dim)\n",
    "        \n",
    "        # Convolutional layers with multiple kernel sizes for capturing different n-gram features\n",
    "        self.convs = nn.ModuleList([\n",
    "            nn.Conv1d(in_channels=embed_dim, out_channels=num_filters, kernel_size=k) \n",
    "            for k in kernel_sizes\n",
    "        ])\n",
    "        \n",
    "        # Dropout layer to reduce overfitting\n",
    "        self.dropout = nn.Dropout(dropout)\n",
    "        self.fc = nn.Linear(num_filters * len(kernel_sizes), num_classes)\n",
    "\n",
    "    def forward(self, x):\n",
    "        # Convert word indices to embeddings\n",
    "        x = self.embedding(x)\n",
    "        # Rearrange to (B, E, L)\n",
    "        x = x.permute(0, 2, 1)\n",
    "        # Apply convolution + ReLU activation\n",
    "        x = [F.relu(conv(x)) for conv in self.convs]\n",
    "        \n",
    "        # Max pool over the time dimension to get fixed-size vector\n",
    "        x = [F.max_pool1d(c, kernel_size=c.size(2)).squeeze(2) for c in x]\n",
    "        # Concatenate all outputs\n",
    "        x = torch.cat(x, dim=1)\n",
    "        \n",
    "        return self.fc(self.dropout(x))"
   ]
  },
  {
   "cell_type": "code",
   "execution_count": 15,
   "id": "432c6e0c-7d31-4cb8-9926-591e5293e11f",
   "metadata": {},
   "outputs": [
    {
     "name": "stdout",
     "output_type": "stream",
     "text": [
      "Epoch 1: Loss = 2362.0029\n",
      "Epoch 2: Loss = 2199.4365\n",
      "Epoch 3: Loss = 2102.2039\n",
      "Epoch 4: Loss = 2003.3820\n",
      "Epoch 5: Loss = 1893.4542\n"
     ]
    }
   ],
   "source": [
    "# Set device to GPU \n",
    "device = torch.device(\"cuda\" if torch.cuda.is_available() else \"cpu\")\n",
    "\n",
    "# Initialize TextCNN model\n",
    "model = TextCNN(vocab_size=len(vocab_dict), embed_dim=100, num_classes=20).to(device)\n",
    "\n",
    "# Define optimizer and loss function\n",
    "optimizer = torch.optim.Adam(model.parameters(), lr=1e-3)\n",
    "criterion = nn.CrossEntropyLoss()\n",
    "\n",
    "train_losses = []\n",
    "# Training loop for 5 epochs\n",
    "for epoch in range(5):\n",
    "    model.train()\n",
    "    total_loss = 0\n",
    "    \n",
    "    # Iterate over batches in training data\n",
    "    for X_batch, y_batch in train_loader:\n",
    "        X_batch, y_batch = X_batch.to(device), y_batch.to(device)\n",
    "        # Clear previous gradients\n",
    "        optimizer.zero_grad()          \n",
    "        output = model(X_batch)\n",
    "        # Compute loss\n",
    "        loss = criterion(output, y_batch)\n",
    "        loss.backward()\n",
    "        optimizer.step()\n",
    "        \n",
    "        total_loss += loss.item()\n",
    "    \n",
    "    # Print avg loss for the epoch\n",
    "    print(f\"Epoch {epoch+1}: Loss = {total_loss:.4f}\")\n",
    "    train_losses.append(total_loss)"
   ]
  },
  {
   "cell_type": "code",
   "execution_count": 19,
   "id": "8f5fdcc7-ab1b-4d5d-9f4a-d714ab3dcb71",
   "metadata": {},
   "outputs": [
    {
     "data": {
      "image/png": "[encoded data removed]",
      "text/plain": [
       "<Figure size 800x500 with 1 Axes>"
      ]
     },
     "metadata": {},
     "output_type": "display_data"
    }
   ],
   "source": [
    "# Plot training loss per epoch\n",
    "plt.figure(figsize=(8, 5))\n",
    "plt.plot(range(1, len(train_losses) + 1), train_losses, marker='o', color='green')\n",
    "plt.title(\"Training Loss Over Epochs\")\n",
    "plt.xlabel(\"Epoch\")\n",
    "plt.ylabel(\"Loss\")\n",
    "plt.xticks(range(1, 6))\n",
    "plt.grid(True)\n",
    "plt.tight_layout()\n",
    "plt.show()"
   ]
  },
  {
   "cell_type": "markdown",
   "id": "98739397-820d-4352-b03a-0ca712771f54",
   "metadata": {},
   "source": [
    "## Evaluation"
   ]
  },
  {
   "cell_type": "code",
   "execution_count": 17,
   "id": "ff55bbeb-1d2d-490f-9c55-a6a2ee68a7cf",
   "metadata": {},
   "outputs": [
    {
     "name": "stdout",
     "output_type": "stream",
     "text": [
      "\n",
      "Classification Report:\n",
      "              precision    recall  f1-score   support\n",
      "\n",
      "           0       0.00      0.00      0.00       308\n",
      "           1       0.17      0.03      0.05       510\n",
      "           2       0.22      0.17      0.19      1406\n",
      "           3       0.28      0.46      0.35      1394\n",
      "           4       0.00      0.00      0.00       356\n",
      "           5       0.66      0.53      0.58       428\n",
      "           6       0.16      0.07      0.10       482\n",
      "           7       0.31      0.38      0.34       859\n",
      "           8       0.20      0.00      0.00       413\n",
      "           9       0.29      0.73      0.41      2990\n",
      "          10       0.10      0.01      0.02       331\n",
      "          11       0.55      0.41      0.47       459\n",
      "          12       0.43      0.26      0.32       415\n",
      "          13       0.23      0.07      0.11       627\n",
      "          14       0.16      0.01      0.02       475\n",
      "          15       0.18      0.03      0.05       728\n",
      "          16       0.13      0.05      0.07       584\n",
      "          17       0.07      0.00      0.00       525\n",
      "          18       0.00      0.00      0.00       364\n",
      "          19       0.11      0.05      0.07       346\n",
      "\n",
      "    accuracy                           0.29     14000\n",
      "   macro avg       0.21      0.16      0.16     14000\n",
      "weighted avg       0.24      0.29      0.22     14000\n",
      "\n"
     ]
    }
   ],
   "source": [
    "model.eval()\n",
    "y_true, y_pred = [], []\n",
    "# Disable gradient calculation for evaluation\n",
    "with torch.no_grad():\n",
    "    for X_batch, y_batch in val_loader:\n",
    "        X_batch = X_batch.to(device)\n",
    "        # Get model predictions\n",
    "        outputs = model(X_batch)\n",
    "        preds = outputs.argmax(dim=1).cpu().numpy()\n",
    "        # Store predictions\n",
    "        y_pred.extend(preds)\n",
    "        y_true.extend(y_batch.numpy())\n",
    "\n",
    "# Print classification report with precision, recall, f1-score\n",
    "print(\"\\nClassification Report:\")\n",
    "print(classification_report(y_true, y_pred))"
   ]
  },
  {
   "cell_type": "code",
   "execution_count": 6,
   "id": "b70b2bc5-f40f-427d-8f87-0b4d0fdc3cd8",
   "metadata": {},
   "outputs": [
    {
     "name": "stdout",
     "output_type": "stream",
     "text": [
      "Emoji Label Mapping: 0: 😜, 1: 📸, 2: 😍, 3: 😂, 4: 😉, 5: 🎄, 6: 📷, 7: 🔥, 8: 😘, 9: ❤, 10: 😁, 11: 🇺🇸, 12: ☀, 13: ✨, 14: 💙, 15: 💕, 16: 😎, 17: 😊, 18: 💜, 19: 💯\n"
     ]
    }
   ],
   "source": [
    "# Legend mapping label to emoji\n",
    "print(\"Emoji Label Mapping:\", ', '.join([f\"{label}: {emoji}\" for label, emoji in emoji_map.items()]))"
   ]
  },
  {
   "cell_type": "markdown",
   "id": "31885e60-a5d4-4f9d-af69-056155ff85e6",
   "metadata": {},
   "source": [
    "The model’s overall performance is low, with many classes having zero or very poor scores. Only a few classes, like class 9, show decent recall and F1-score, likely due to more samples. The accuracy is 29%, indicating the model struggles with most categories."
   ]
  },
  {
   "cell_type": "code",
   "execution_count": 18,
   "id": "d0c6ba99-cf7a-4728-a6cd-b20ce6cf2425",
   "metadata": {},
   "outputs": [
    {
     "data": {
      "image/png": "[encoded data removed]",
      "text/plain": [
       "<Figure size 1200x500 with 1 Axes>"
      ]
     },
     "metadata": {},
     "output_type": "display_data"
    }
   ],
   "source": [
    "from sklearn.metrics import classification_report\n",
    "import matplotlib.pyplot as plt\n",
    "\n",
    "# Get scores from the classification report\n",
    "report = classification_report(y_true, y_pred, output_dict=True)\n",
    "f1_scores = {k: v['f1-score'] for k, v in report.items() if k.isdigit()}\n",
    "\n",
    "plt.figure(figsize=(12, 5))\n",
    "plt.bar(f1_scores.keys(), f1_scores.values(), color='skyblue')\n",
    "plt.title(\"F1 Scores by Class\")\n",
    "plt.xlabel(\"Class\")\n",
    "plt.ylabel(\"F1 Score\")\n",
    "plt.grid(True)\n",
    "plt.show()"
   ]
  },
  {
   "cell_type": "code",
   "execution_count": 1,
   "id": "7633e785-aeef-43e7-98c4-62cf65bb0b58",
   "metadata": {},
   "outputs": [
    {
     "name": "stdout",
     "output_type": "stream",
     "text": [
      "Thought this was cool...#Repost (get_repost)・・・Colorview. by shay_images…\n",
      "Top predicted emojis and confidence: \n",
      " 1. 😂 — 0.24 \n",
      " 2. 📷 — 0.22 \n",
      " 3. 💯 — 0.13\n",
      "\n",
      "Happy 4th! Corte madera parade. #everytownusa #merica @ Perry's on…\n",
      "Top predicted emojis and confidence: \n",
      " 1. 😎 — 0.18 \n",
      " 2. 😜 — 0.15 \n",
      " 3. 📷 — 0.13\n",
      "\n",
      "Luv. Or at least something close to it. @ Union Hill, Richmond, Virginia\n",
      "Top predicted emojis and confidence: \n",
      " 1.  😂 — 0.34 \n",
      " 2. 😎 — 0.16 \n",
      " 3. 📷 — 0.10\n"
     ]
    }
   ],
   "source": [
    "def predict_emoji(model, text, vocab_dict, max_len=30):\n",
    "    model.eval()\n",
    "    # Tokenize text by splitting on spaces\n",
    "    tokens = text.lower().split()\n",
    "    indices = [vocab_dict.get(token, vocab_dict['<unk>']) for token in tokens]\n",
    "    if len(indices) < max_len:\n",
    "        indices += [vocab_dict['<pad>']] * (max_len - len(indices))\n",
    "    else:\n",
    "        indices = indices[:max_len]\n",
    "    # Convert to tensor and move to model's device\n",
    "    input_tensor = torch.tensor([indices]).to(next(model.parameters()).device)\n",
    "    \n",
    "    with torch.no_grad():\n",
    "        output = model(input_tensor)\n",
    "        # Get probabilities\n",
    "        probs = F.softmax(output, dim=1).cpu().numpy()[0]\n",
    "    \n",
    "    return probs\n",
    "\n",
    "# Load your test dataset\n",
    "test_data = pd.read_csv('Test.csv')\n",
    "test_tweets = test_data['TEXT'].tolist()[:5] # Select first 5 tweets\n",
    "\n",
    "# Predict and visualize top 3 emojis for each tweet\n",
    "for tweet in test_tweets:\n",
    "    pred_probs = predict_emoji(model, tweet, vocab_dict)\n",
    "    top_indices = pred_probs.argsort()[-3:][::-1]\n",
    "    top_probs = [pred_probs[i] for i in top_indices]\n",
    "\n",
    "    # Print top predicted emojis with confidence scores\n",
    "    print(\"Top predicted emojis and confidence:\")\n",
    "    for i, idx in enumerate(top_indices):\n",
    "        print(f\"{i+1}. {emoji_map[idx]} — {top_probs[i]:.2f}\")\n",
    "    print(\"\\n\")"
   ]
  },
  {
   "cell_type": "markdown",
   "id": "ed1309bf-0716-4665-bc05-6f4c86d1e28d",
   "metadata": {},
   "source": [
    "## Conculsion\n",
    "The TextCNN model captures short, punchy phrases well and tends to favor expressive emojis like 😂, 😎, and 📷. It performs especially well on tweets with clear visual or emotional cues, such as \"Happy 4th!\" or photo-related posts. For example, it confidently predicts 📷 for a tweet referencing a parade, and 😂 for casual, humorous text. While the top predictions often overlap, suggesting some class ambiguity, the results generally align with the tone of the tweet. The model shows potential for fast, reasonably accurate emoji prediction, especially on concise and expressive social media content."
   ]
  }
 ],
 "metadata": {
  "kernelspec": {
   "display_name": "Python 3 (ipykernel)",
   "language": "python",
   "name": "python3"
  },
  "language_info": {
   "codemirror_mode": {
    "name": "ipython",
    "version": 3
   },
   "file_extension": ".py",
   "mimetype": "text/x-python",
   "name": "python",
   "nbconvert_exporter": "python",
   "pygments_lexer": "ipython3",
   "version": "3.8.19"
  }
 },
 "nbformat": 4,
 "nbformat_minor": 5
}
