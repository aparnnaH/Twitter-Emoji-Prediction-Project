{
 "cells": [
  {
   "cell_type": "markdown",
   "id": "e729a64e-72bc-4d6f-b954-74d7b6937e35",
   "metadata": {},
   "source": [
    "# GRU Model"
   ]
  },
  {
   "cell_type": "code",
   "execution_count": 2,
   "id": "085cb017-7626-4fcd-aad8-3949772d361a",
   "metadata": {},
   "outputs": [],
   "source": [
    "import torch\n",
    "import torch.nn as nn\n",
    "import torch.nn.functional as F\n",
    "from torch.utils.data import DataLoader, TensorDataset\n",
    "import pandas as pd\n",
    "import numpy as np\n",
    "import matplotlib.pyplot as plt\n",
    "import seaborn as sns\n",
    "from sklearn.metrics import classification_report\n",
    "from collections import Counter"
   ]
  },
  {
   "cell_type": "code",
   "execution_count": null,
   "id": "3f4eb25b-dcbb-474b-8c5c-5ca104dfa6a2",
   "metadata": {},
   "outputs": [],
   "source": [
    "# Load the training dataset containing text and corresponding emoji labels\n",
    "df = pd.read_csv(\"Train.csv\")\n",
    "\n",
    "# Load the mapping file that maps numeric labels to actual emoticons\n",
    "mapping = pd.read_csv('Mapping.csv')\n",
    "# Create a dictionary to map numeric labels to their corresponding emoticons\n",
    "# 'number' column contains label IDs, 'emoticons' column contains emoji strings\n",
    "emoji_map = dict(zip(mapping[\"number\"], mapping[\"emoticons\"]))\n",
    "\n",
    "# Load the test dataset containing tweet text\n",
    "test_df = pd.read_csv(\"Test.csv\")"
   ]
  },
  {
   "cell_type": "markdown",
   "id": "3b2f1794-49f0-40f0-9c2a-199b3b82798b",
   "metadata": {},
   "source": [
    "## Create Vocabulary Dictionary from Text Data"
   ]
  },
  {
   "cell_type": "code",
   "execution_count": 3,
   "id": "e404c3e0-afb0-43cb-95a6-b316f3dde93f",
   "metadata": {},
   "outputs": [],
   "source": [
    "def build_vocab(texts, min_freq=1):\n",
    "    counter = Counter()\n",
    "    for text in texts:\n",
    "        # Count all words in lowercase\n",
    "        counter.update(text.lower().split())\n",
    "    vocab = {'<PAD>': 0, '<UNK>': 1}\n",
    "    for word, freq in counter.items():\n",
    "        # Add word to vocab if it meets frequency threshold\n",
    "        if freq >= min_freq:\n",
    "            vocab[word] = len(vocab)\n",
    "    return vocab\n",
    "\n",
    "# Prepare text and labels for processing\n",
    "texts = df['TEXT'].tolist()\n",
    "labels = df['Label'].tolist()\n",
    "# Generate vocabulary\n",
    "vocab = build_vocab(texts)\n",
    "# Set sequence processing parameters\n",
    "max_len = 30\n",
    "pad_idx = vocab['<PAD>']\n",
    "unk_idx = vocab['<UNK>']"
   ]
  },
  {
   "cell_type": "markdown",
   "id": "5b624d80-9829-47af-89e1-b5c124e414c6",
   "metadata": {},
   "source": [
    "## Encode text and Dataloaders"
   ]
  },
  {
   "cell_type": "code",
   "execution_count": 9,
   "id": "e719c4b0-e6b4-417e-a653-a179e67796e8",
   "metadata": {},
   "outputs": [],
   "source": [
    "def encode(text, vocab, max_len):\n",
    "    # Split text into lowercase tokens\n",
    "    tokens = text.lower().split()\n",
    "    indices = [vocab.get(tok, unk_idx) for tok in tokens]\n",
    "    if len(indices) < max_len:\n",
    "        indices += [pad_idx] * (max_len - len(indices))\n",
    "    # Trim if longer than max_len\n",
    "    return indices[:max_len]\n",
    "\n",
    "# Convert all texts and labels to tensors\n",
    "X = torch.tensor([encode(t, vocab, max_len) for t in texts])\n",
    "y = torch.tensor(labels)\n",
    "\n",
    "\n",
    "# Create dataset and data loader for training\n",
    "train_ds = TensorDataset(X, y)\n",
    "train_dl = DataLoader(train_ds, batch_size=16, shuffle=True)"
   ]
  },
  {
   "cell_type": "markdown",
   "id": "9cc5d30b-ec28-4a15-b797-42a53d92fd7c",
   "metadata": {},
   "source": [
    "## Build GRU model"
   ]
  },
  {
   "cell_type": "code",
   "execution_count": 16,
   "id": "7ece86d0-a4dc-41e7-8d38-15a5197fabad",
   "metadata": {},
   "outputs": [],
   "source": [
    "# Total number of tokens in vocabulary\n",
    "vocab_size = len(vocab)\n",
    "# Size of word embeddings\n",
    "embed_dim = 100\n",
    "hidden_dim = 128\n",
    "num_classes = 20\n",
    "\n",
    "# Layers for the first model version\n",
    "embedding = nn.Embedding(vocab_size, embed_dim, padding_idx=pad_idx)\n",
    "gru = nn.GRU(embed_dim, hidden_dim, batch_first=True, bidirectional=True)\n",
    "fc = nn.Linear(hidden_dim * 2, num_classes)\n",
    "dropout = nn.Dropout(0.3)\n",
    "\n",
    "def forward(x):\n",
    "    # Embed tokens\n",
    "    x = embedding(x)\n",
    "    x, _ = gru(x)\n",
    "    # Mean pooling over time steps\n",
    "    x = torch.mean(x, dim=1)\n",
    "    x = dropout(x)   \n",
    "    # Final classification layer\n",
    "    return fc(x)\n",
    "\n",
    "class GRUModel(nn.Module):\n",
    "    def __init__(self, vocab_size, embed_dim, hidden_dim, num_classes):\n",
    "        super(GRUModel, self).__init__()\n",
    "        self.embedding = nn.Embedding(vocab_size, embed_dim, padding_idx=0)\n",
    "        self.gru = nn.GRU(embed_dim, hidden_dim, batch_first=True)\n",
    "        self.fc = nn.Linear(hidden_dim, num_classes)\n",
    "\n",
    "    def forward(self, x):\n",
    "        x = self.embedding(x)\n",
    "        _, h = self.gru(x)\n",
    "        h = h.squeeze(0)                 \n",
    "        # Predict class\n",
    "        out = self.fc(h)\n",
    "        return out"
   ]
  },
  {
   "cell_type": "markdown",
   "id": "fc933f8c-6bf0-4801-b51a-1057c6588a53",
   "metadata": {},
   "source": [
    "## Training"
   ]
  },
  {
   "cell_type": "code",
   "execution_count": 17,
   "id": "d2557f09-6097-4a40-aac8-db00a7b58497",
   "metadata": {},
   "outputs": [],
   "source": [
    "device = torch.device(\"cuda\" if torch.cuda.is_available() else \"cpu\")\n",
    "# Initialize GRU model\n",
    "model = GRUModel(vocab_size, embed_dim, hidden_dim, num_classes).to(device)\n",
    "\n",
    "# Move separately defined layers to the same device\n",
    "embedding = embedding.to(device)\n",
    "gru = gru.to(device)\n",
    "fc = fc.to(device)\n",
    "dropout = dropout.to(device)\n",
    "\n",
    "# Combine parameters from all layers for optimization\n",
    "params = list(embedding.parameters()) + list(gru.parameters()) + \\\n",
    "         list(fc.parameters()) + list(dropout.parameters())\n",
    "\n",
    "# Set optimizer with learning rate\n",
    "optimizer = torch.optim.Adam(params, lr=1e-3)\n",
    "# Define loss function for multi-class classification\n",
    "criterion = nn.CrossEntropyLoss()"
   ]
  },
  {
   "cell_type": "code",
   "execution_count": 32,
   "id": "d441e644-4e1b-4881-96b9-253c5821d42b",
   "metadata": {},
   "outputs": [
    {
     "name": "stdout",
     "output_type": "stream",
     "text": [
      "\n",
      "Epoch 1 starting...\n",
      "Epoch 1, Batch 1/4375, Loss: 0.5580\n",
      "Epoch 1, Batch 1001/4375, Loss: 0.7832\n",
      "Epoch 1, Batch 2001/4375, Loss: 0.2652\n",
      "Epoch 1, Batch 3001/4375, Loss: 0.6369\n",
      "Epoch 1, Batch 4001/4375, Loss: 0.8143\n",
      "Epoch 1 complete. Avg Loss: 0.6312\n",
      "\n",
      "Epoch 2 starting...\n",
      "Epoch 2, Batch 1/4375, Loss: 1.0023\n",
      "Epoch 2, Batch 1001/4375, Loss: 0.2308\n",
      "Epoch 2, Batch 2001/4375, Loss: 0.8120\n",
      "Epoch 2, Batch 3001/4375, Loss: 0.7042\n",
      "Epoch 2, Batch 4001/4375, Loss: 1.0778\n",
      "Epoch 2 complete. Avg Loss: 0.4008\n",
      "\n",
      "Epoch 3 starting...\n",
      "Epoch 3, Batch 1/4375, Loss: 0.4498\n",
      "Epoch 3, Batch 1001/4375, Loss: 0.1753\n",
      "Epoch 3, Batch 2001/4375, Loss: 0.1086\n",
      "Epoch 3, Batch 3001/4375, Loss: 0.3189\n",
      "Epoch 3, Batch 4001/4375, Loss: 0.2361\n",
      "Epoch 3 complete. Avg Loss: 0.2662\n",
      "\n",
      "Epoch 4 starting...\n",
      "Epoch 4, Batch 1/4375, Loss: 0.0564\n",
      "Epoch 4, Batch 1001/4375, Loss: 0.0541\n",
      "Epoch 4, Batch 2001/4375, Loss: 0.0536\n",
      "Epoch 4, Batch 3001/4375, Loss: 0.1583\n",
      "Epoch 4, Batch 4001/4375, Loss: 0.1610\n",
      "Epoch 4 complete. Avg Loss: 0.1869\n",
      "\n",
      "Epoch 5 starting...\n",
      "Epoch 5, Batch 1/4375, Loss: 0.1287\n",
      "Epoch 5, Batch 1001/4375, Loss: 0.1286\n",
      "Epoch 5, Batch 2001/4375, Loss: 0.1226\n",
      "Epoch 5, Batch 3001/4375, Loss: 0.1829\n",
      "Epoch 5, Batch 4001/4375, Loss: 0.0052\n",
      "Epoch 5 complete. Avg Loss: 0.1408\n"
     ]
    }
   ],
   "source": [
    "train_losses = []\n",
    "# Loop over 5 training epochs\n",
    "for epoch in range(5):\n",
    "    # Set model to training mode\n",
    "    model.train()\n",
    "    total_loss = 0\n",
    "\n",
    "    print(f\"\\nEpoch {epoch+1} starting...\")\n",
    "    \n",
    "    # Loop through batches from the dataloader\n",
    "    for i, (xb, yb) in enumerate(train_dl):\n",
    "        xb, yb = xb.to(device), yb.to(device)\n",
    "\n",
    "        # clear gradients, forward pass, compute loss, backpropagate, and update weights\n",
    "        optimizer.zero_grad()\n",
    "        out = forward(xb)\n",
    "        loss = criterion(out, yb)\n",
    "        loss.backward()\n",
    "        optimizer.step()\n",
    "\n",
    "        total_loss += loss.item()\n",
    "        \n",
    "        # Print loss every 1000 batches\n",
    "        if i % 1000 == 0:\n",
    "            print(f\"Epoch {epoch+1}, Batch {i+1}/{len(train_dl)}, Loss: {loss.item():.4f}\")\n",
    "            \n",
    "    # Calculate and store average loss for the epoch\n",
    "    avg_loss = total_loss / len(train_dl)\n",
    "    train_losses.append(avg_loss)\n",
    "    print(f\"Epoch {epoch+1} complete. Avg Loss: {avg_loss:.4f}\")"
   ]
  },
  {
   "cell_type": "markdown",
   "id": "4a19a083-75e4-4dcb-8708-752877480637",
   "metadata": {},
   "source": [
    "The training shows steady improvement over 5 epochs. The loss started high at 0.63 in epoch 1 and gradually decreased each epoch, reaching 0.14 by epoch 5. This means the model got better and more stable with training."
   ]
  },
  {
   "cell_type": "code",
   "execution_count": 33,
   "id": "065bfe79-6491-42a0-8b06-da09c238fd97",
   "metadata": {},
   "outputs": [
    {
     "data": {
      "image/png": "[encoded data removed]",
      "text/plain": [
       "<Figure size 800x500 with 1 Axes>"
      ]
     },
     "metadata": {},
     "output_type": "display_data"
    }
   ],
   "source": [
    "# Plot training loss\n",
    "plt.figure(figsize=(8, 5))\n",
    "plt.plot(range(1, 6), train_losses, marker='o', color='blue')\n",
    "plt.title(\"Training Loss Over Epochs\")\n",
    "plt.xlabel(\"Epoch\")\n",
    "plt.ylabel(\"Loss\")\n",
    "plt.xticks(range(1, 6))\n",
    "plt.grid(True)\n",
    "plt.tight_layout()\n",
    "plt.show()"
   ]
  },
  {
   "cell_type": "markdown",
   "id": "91d836e2-5d94-47e5-811e-ad8fe3070bf4",
   "metadata": {},
   "source": [
    "## Evaluation"
   ]
  },
  {
   "cell_type": "code",
   "execution_count": 35,
   "id": "240f8b77-c707-4582-8372-0af43b934993",
   "metadata": {},
   "outputs": [],
   "source": [
    "# Predict emoji probabilities for a given tweet using the trained GRU model\n",
    "def predict(text):\n",
    "    embedding.eval(); gru.eval(); fc.eval(); dropout.eval()\n",
    "    with torch.no_grad():\n",
    "        encoded = torch.tensor([encode(text, vocab, max_len)]).to(device)\n",
    "        output = forward(encoded)\n",
    "        probs = F.softmax(output, dim=1).cpu().numpy().flatten()\n",
    "    return probs"
   ]
  },
  {
   "cell_type": "code",
   "execution_count": 1,
   "id": "d682d5c1-4d82-4cb0-b862-1e2f66073fe2",
   "metadata": {},
   "outputs": [
    {
     "name": "stdout",
     "output_type": "stream",
     "text": [
      "Thought this was cool...#Repost (get_repost)・・・Colorview. by shay_images…\n",
      "Top predicted emojis and confidence: \n",
      " 1. 🔥 — 0.99 \n",
      " 2. 📷 — 0.00 \n",
      " 3. 📸 — 0.00\n",
      "\n",
      "Happy 4th! Corte madera parade. #everytownusa #merica @ Perry's on…\n",
      "Top predicted emojis and confidence: \n",
      " 1. 🇺🇸 — 1.00 \n",
      " 2. 😘 — 0.00 \n",
      " 3. 😎 — 0.00\n",
      "\n",
      "Luv. Or at least something close to it. @ Union Hill, Richmond, Virginia\n",
      "Top predicted emojis and confidence: \n",
      " 1.  💯 — 0.94 \n",
      " 2. 📸 — 0.05 \n",
      " 3. 😜 — 0.01\n"
     ]
    }
   ],
   "source": [
    "import warnings\n",
    "warnings.filterwarnings(\"ignore\", category=UserWarning)\n",
    "\n",
    "# For the first 3 test tweets, predict emoji probabilities\n",
    "test_tweets = test_df['TEXT'].tolist()[:3]\n",
    "for tweet in test_tweets:\n",
    "    probs = predict(tweet)\n",
    "    top_indices = probs.argsort()[-3:][::-1]\n",
    "    top_probs = [probs[i] for i in top_indices]\n",
    "    \n",
    "    # Print emoji predictions and confidence scores\n",
    "    print(\"Top predicted emojis and confidence:\")\n",
    "    for i, idx in enumerate(top_indices):\n",
    "        print(f\"{i+1}. {emoji_map[idx]} — {top_probs[i]:.2f}\")\n",
    "    print()"
   ]
  },
  {
   "cell_type": "markdown",
   "id": "4440b47d-0885-4568-8d6a-1fcb42d825a4",
   "metadata": {},
   "source": [
    "## Conculsion\n",
    "The GRU model delivers strong performance, especially on tweets with clear emotional or contextual cues. For example, it confidently predicts 🇺🇸 for Independence Day content and 📸 for posts referencing photos, often with high certainty. It also handles expressive language well, selecting emojis like 😍 and ✨ for affectionate or enthusiastic tweets. While its predictions are generally relevant, the model can be overly confident, which may lead to occasional misclassifications. Overall, GRU offers a good balance of efficiency and accuracy, making it a solid choice for emoji prediction on short, informal text."
   ]
  }
 ],
 "metadata": {
  "kernelspec": {
   "display_name": "Python 3 (ipykernel)",
   "language": "python",
   "name": "python3"
  },
  "language_info": {
   "codemirror_mode": {
    "name": "ipython",
    "version": 3
   },
   "file_extension": ".py",
   "mimetype": "text/x-python",
   "name": "python",
   "nbconvert_exporter": "python",
   "pygments_lexer": "ipython3",
   "version": "3.8.19"
  }
 },
 "nbformat": 4,
 "nbformat_minor": 5
}
